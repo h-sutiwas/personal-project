{
 "cells": [
  {
   "cell_type": "code",
   "execution_count": 1,
   "metadata": {},
   "outputs": [
    {
     "name": "stdout",
     "output_type": "stream",
     "text": [
      "Defaulting to user installation because normal site-packages is not writeable\n",
      "Collecting quandl\n",
      "  Obtaining dependency information for quandl from https://files.pythonhosted.org/packages/c9/cd/54ab3484243431e02dabab1254ffde296c005e0d11346536e5e02ce6c828/Quandl-3.7.0-py2.py3-none-any.whl.metadata\n",
      "  Downloading Quandl-3.7.0-py2.py3-none-any.whl.metadata (1.3 kB)\n",
      "Requirement already satisfied: pandas>=0.14 in c:\\programdata\\anaconda3\\lib\\site-packages (from quandl) (2.0.3)\n",
      "Requirement already satisfied: numpy>=1.8 in c:\\programdata\\anaconda3\\lib\\site-packages (from quandl) (1.24.3)\n",
      "Requirement already satisfied: requests>=2.7.0 in c:\\programdata\\anaconda3\\lib\\site-packages (from quandl) (2.31.0)\n",
      "Requirement already satisfied: inflection>=0.3.1 in c:\\programdata\\anaconda3\\lib\\site-packages (from quandl) (0.5.1)\n",
      "Requirement already satisfied: python-dateutil in c:\\programdata\\anaconda3\\lib\\site-packages (from quandl) (2.8.2)\n",
      "Requirement already satisfied: six in c:\\programdata\\anaconda3\\lib\\site-packages (from quandl) (1.16.0)\n",
      "Requirement already satisfied: more-itertools in c:\\programdata\\anaconda3\\lib\\site-packages (from quandl) (8.12.0)\n",
      "Requirement already satisfied: pytz>=2020.1 in c:\\programdata\\anaconda3\\lib\\site-packages (from pandas>=0.14->quandl) (2023.3.post1)\n",
      "Requirement already satisfied: tzdata>=2022.1 in c:\\programdata\\anaconda3\\lib\\site-packages (from pandas>=0.14->quandl) (2023.3)\n",
      "Requirement already satisfied: charset-normalizer<4,>=2 in c:\\programdata\\anaconda3\\lib\\site-packages (from requests>=2.7.0->quandl) (2.0.4)\n",
      "Requirement already satisfied: idna<4,>=2.5 in c:\\programdata\\anaconda3\\lib\\site-packages (from requests>=2.7.0->quandl) (3.4)\n",
      "Requirement already satisfied: urllib3<3,>=1.21.1 in c:\\programdata\\anaconda3\\lib\\site-packages (from requests>=2.7.0->quandl) (1.26.16)\n",
      "Requirement already satisfied: certifi>=2017.4.17 in c:\\programdata\\anaconda3\\lib\\site-packages (from requests>=2.7.0->quandl) (2024.7.4)\n",
      "Downloading Quandl-3.7.0-py2.py3-none-any.whl (26 kB)\n",
      "Installing collected packages: quandl\n",
      "Successfully installed quandl-3.7.0\n"
     ]
    }
   ],
   "source": [
    "# This program predict stock\n",
    "## Install quandl\n",
    "!pip install quandl"
   ]
  },
  {
   "cell_type": "markdown",
   "metadata": {},
   "source": [
    "### Install the dependencies\n",
    "- This program predicts stock prices by using machine learning models"
   ]
  },
  {
   "cell_type": "code",
   "execution_count": 15,
   "metadata": {},
   "outputs": [],
   "source": [
    "import quandl\n",
    "import numpy as np\n",
    "from sklearn.linear_model import LinearRegression\n",
    "from sklearn.svm import SVR\n",
    "from sklearn.model_selection import train_test_split"
   ]
  },
  {
   "cell_type": "markdown",
   "metadata": {},
   "source": [
    "### Get the stock data"
   ]
  },
  {
   "cell_type": "code",
   "execution_count": 16,
   "metadata": {},
   "outputs": [
    {
     "name": "stdout",
     "output_type": "stream",
     "text": [
      "             Open   High    Low    Close       Volume  Ex-Dividend  \\\n",
      "Date                                                                 \n",
      "2012-05-18  42.05  45.00  38.00  38.2318  573576400.0          0.0   \n",
      "2012-05-21  36.53  36.66  33.00  34.0300  168192700.0          0.0   \n",
      "2012-05-22  32.61  33.59  30.94  31.0000  101786600.0          0.0   \n",
      "2012-05-23  31.37  32.50  31.36  32.0000   73600000.0          0.0   \n",
      "2012-05-24  32.95  33.21  31.77  33.0300   50237200.0          0.0   \n",
      "\n",
      "            Split Ratio  Adj. Open  Adj. High  Adj. Low  Adj. Close  \\\n",
      "Date                                                                  \n",
      "2012-05-18          1.0      42.05      45.00     38.00     38.2318   \n",
      "2012-05-21          1.0      36.53      36.66     33.00     34.0300   \n",
      "2012-05-22          1.0      32.61      33.59     30.94     31.0000   \n",
      "2012-05-23          1.0      31.37      32.50     31.36     32.0000   \n",
      "2012-05-24          1.0      32.95      33.21     31.77     33.0300   \n",
      "\n",
      "            Adj. Volume  \n",
      "Date                     \n",
      "2012-05-18  573576400.0  \n",
      "2012-05-21  168192700.0  \n",
      "2012-05-22  101786600.0  \n",
      "2012-05-23   73600000.0  \n",
      "2012-05-24   50237200.0  \n"
     ]
    }
   ],
   "source": [
    "df = quandl.get(\"WIKI/FB\") \n",
    "print(df.head()) # Take a look at the data by printing it out"
   ]
  },
  {
   "cell_type": "markdown",
   "metadata": {},
   "source": [
    "### Get the Adjusted Close Price"
   ]
  },
  {
   "cell_type": "code",
   "execution_count": 17,
   "metadata": {},
   "outputs": [
    {
     "name": "stdout",
     "output_type": "stream",
     "text": [
      "            Adj. Close\n",
      "Date                  \n",
      "2012-05-18     38.2318\n",
      "2012-05-21     34.0300\n",
      "2012-05-22     31.0000\n",
      "2012-05-23     32.0000\n",
      "2012-05-24     33.0300\n"
     ]
    }
   ],
   "source": [
    "df = df[[\"Adj. Close\"]]\n",
    "# Take a look at the new data\n",
    "print(df.head())"
   ]
  },
  {
   "cell_type": "markdown",
   "metadata": {},
   "source": [
    "### A variable for predicting 'n' days out into the future."
   ]
  },
  {
   "cell_type": "code",
   "execution_count": 18,
   "metadata": {},
   "outputs": [
    {
     "name": "stdout",
     "output_type": "stream",
     "text": [
      "            Adj. Close  Prediction\n",
      "Date                              \n",
      "2012-05-18     38.2318       34.03\n",
      "2012-05-21     34.0300       31.00\n",
      "2012-05-22     31.0000       32.00\n",
      "2012-05-23     32.0000       33.03\n",
      "2012-05-24     33.0300       31.91\n"
     ]
    }
   ],
   "source": [
    "forecast_out = 1\n",
    "# Create another column (the target or dependant variable) shifted 'n' units up\n",
    "df['Prediction'] = df[['Adj. Close']].shift(-1)\n",
    "# Print out the new data set\n",
    "print(df.head())"
   ]
  },
  {
   "cell_type": "markdown",
   "metadata": {},
   "source": [
    "### Create the independent data set -> X"
   ]
  },
  {
   "cell_type": "code",
   "execution_count": 21,
   "metadata": {},
   "outputs": [
    {
     "name": "stdout",
     "output_type": "stream",
     "text": [
      "[[ 38.2318]\n",
      " [ 34.03  ]\n",
      " [ 31.    ]\n",
      " ...\n",
      " [164.89  ]\n",
      " [159.39  ]\n",
      " [160.06  ]]\n"
     ]
    }
   ],
   "source": [
    "# Convert the dataframe to a numpy array\n",
    "X = np.array(df.drop('Prediction', axis=1))\n",
    "\n",
    "# Remove the last 'n' rows\n",
    "X = X[:-forecast_out]\n",
    "print(X)"
   ]
  },
  {
   "cell_type": "markdown",
   "metadata": {},
   "source": [
    "### Create the dependent data set -> y"
   ]
  },
  {
   "cell_type": "code",
   "execution_count": null,
   "metadata": {},
   "outputs": [],
   "source": [
    "# Convert the dataframe to a numpy array (including NaN value)\n"
   ]
  }
 ],
 "metadata": {
  "kernelspec": {
   "display_name": "base",
   "language": "python",
   "name": "python3"
  },
  "language_info": {
   "codemirror_mode": {
    "name": "ipython",
    "version": 3
   },
   "file_extension": ".py",
   "mimetype": "text/x-python",
   "name": "python",
   "nbconvert_exporter": "python",
   "pygments_lexer": "ipython3",
   "version": "3.11.5"
  }
 },
 "nbformat": 4,
 "nbformat_minor": 2
}
